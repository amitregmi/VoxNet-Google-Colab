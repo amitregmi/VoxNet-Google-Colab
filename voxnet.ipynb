{
  "nbformat": 4,
  "nbformat_minor": 0,
  "metadata": {
    "colab": {
      "name": "voxnet.ipynb",
      "version": "0.3.2",
      "views": {},
      "default_view": {},
      "provenance": []
    },
    "kernelspec": {
      "name": "python3",
      "display_name": "Python 3"
    },
    "accelerator": "GPU"
  },
  "cells": [
    {
      "metadata": {
        "id": "xKkOzF3xhs-0",
        "colab_type": "text"
      },
      "cell_type": "markdown",
      "source": [
        "#VoxNet + Google Colab"
      ]
    },
    {
      "metadata": {
        "id": "YREhAaHs6-ra",
        "colab_type": "code",
        "colab": {
          "autoexec": {
            "startup": false,
            "wait_interval": 0
          },
          "output_extras": [
            {
              "item_id": 1
            }
          ],
          "base_uri": "https://localhost:8080/",
          "height": 34
        },
        "outputId": "85fb4460-df37-4551-c081-23a736ea0a1b",
        "executionInfo": {
          "status": "ok",
          "timestamp": 1522387999064,
          "user_tz": -540,
          "elapsed": 7394,
          "user": {
            "displayName": "Amit Regmi",
            "photoUrl": "//lh3.googleusercontent.com/-RYO6ZPGW2UE/AAAAAAAAAAI/AAAAAAAAAY8/7wgPJISKqpg/s50-c-k-no/photo.jpg",
            "userId": "111584261288100302778"
          }
        }
      },
      "cell_type": "code",
      "source": [
        "import numpy as np\n",
        "np.random.seed(1)\n",
        "import keras\n",
        "from keras.models import Sequential\n",
        "from keras.layers import Dense, Flatten, Reshape\n",
        "from keras.layers.convolutional import Conv3D\n",
        "\n",
        "from sklearn.metrics import accuracy_score, confusion_matrix\n",
        "from sklearn.utils import shuffle"
      ],
      "execution_count": 1,
      "outputs": [
        {
          "output_type": "stream",
          "text": [
            "Using TensorFlow backend.\n"
          ],
          "name": "stderr"
        }
      ]
    },
    {
      "metadata": {
        "id": "yMnouyCkhZik",
        "colab_type": "text"
      },
      "cell_type": "markdown",
      "source": [
        "# Load the ModelNet10 data"
      ]
    },
    {
      "metadata": {
        "id": "1YO13tqOQNGn",
        "colab_type": "code",
        "colab": {
          "autoexec": {
            "startup": false,
            "wait_interval": 0
          },
          "output_extras": [
            {
              "item_id": 1
            },
            {
              "item_id": 2
            }
          ],
          "resources": {
            "http://localhost:8080/nbextensions/google.colab/files.js": {
              "data": "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",
              "ok": true,
              "headers": [
                [
                  "content-type",
                  "application/javascript"
                ]
              ],
              "status": 200,
              "status_text": ""
            }
          },
          "base_uri": "https://localhost:8080/",
          "height": 72
        },
        "outputId": "1ce21dc6-8b96-4f23-f480-0443182aaf2d",
        "executionInfo": {
          "status": "ok",
          "timestamp": 1522388026235,
          "user_tz": -540,
          "elapsed": 24610,
          "user": {
            "displayName": "Amit Regmi",
            "photoUrl": "//lh3.googleusercontent.com/-RYO6ZPGW2UE/AAAAAAAAAAI/AAAAAAAAAY8/7wgPJISKqpg/s50-c-k-no/photo.jpg",
            "userId": "111584261288100302778"
          }
        }
      },
      "cell_type": "code",
      "source": [
        "from google.colab import files\n",
        "uploaded = files.upload()"
      ],
      "execution_count": 2,
      "outputs": [
        {
          "output_type": "display_data",
          "data": {
            "text/html": [
              "\n",
              "     <input type=\"file\" id=\"files-12f70d8f-da0d-46ef-816e-378f3daba441\" name=\"files[]\" multiple disabled />\n",
              "     <output id=\"result-12f70d8f-da0d-46ef-816e-378f3daba441\">\n",
              "      Upload widget is only available when the cell has been executed in the\n",
              "      current browser session. Please rerun this cell to enable.\n",
              "      </output>\n",
              "      <script src=\"/nbextensions/google.colab/files.js\"></script> "
            ],
            "text/plain": [
              "<IPython.core.display.HTML object>"
            ]
          },
          "metadata": {
            "tags": []
          }
        },
        {
          "output_type": "stream",
          "text": [
            "Saving modelnet10.npz to modelnet10.npz\n"
          ],
          "name": "stdout"
        }
      ]
    },
    {
      "metadata": {
        "id": "T89kmVBcPdhU",
        "colab_type": "code",
        "colab": {
          "autoexec": {
            "startup": false,
            "wait_interval": 0
          }
        },
        "cellView": "both"
      },
      "cell_type": "code",
      "source": [
        "modelnet_file = 'modelnet10.npz'\n",
        "data = np.load(modelnet_file)"
      ],
      "execution_count": 0,
      "outputs": []
    },
    {
      "metadata": {
        "id": "Rd-TjORvhWKu",
        "colab_type": "text"
      },
      "cell_type": "markdown",
      "source": [
        "#Split Train and Test Data"
      ]
    },
    {
      "metadata": {
        "id": "7TbiF7bXhT0h",
        "colab_type": "code",
        "colab": {
          "autoexec": {
            "startup": false,
            "wait_interval": 0
          }
        }
      },
      "cell_type": "code",
      "source": [
        "X, Y = shuffle(data['X_train'], data['y_train'])\n",
        "X_test, Y_test = shuffle(data['X_test'], data['y_test'])"
      ],
      "execution_count": 0,
      "outputs": []
    },
    {
      "metadata": {
        "id": "sXHLQ3hMh2a4",
        "colab_type": "text"
      },
      "cell_type": "markdown",
      "source": [
        "# One-hot encode training targets"
      ]
    },
    {
      "metadata": {
        "id": "kNJK-D1Ah4nO",
        "colab_type": "code",
        "colab": {
          "autoexec": {
            "startup": false,
            "wait_interval": 0
          }
        }
      },
      "cell_type": "code",
      "source": [
        "Y = keras.utils.to_categorical(Y, num_classes=10)"
      ],
      "execution_count": 0,
      "outputs": []
    },
    {
      "metadata": {
        "id": "S9jagrqEh71Q",
        "colab_type": "text"
      },
      "cell_type": "markdown",
      "source": [
        "# Build the network"
      ]
    },
    {
      "metadata": {
        "id": "aLu4UK5Kh-DP",
        "colab_type": "code",
        "colab": {
          "autoexec": {
            "startup": false,
            "wait_interval": 0
          }
        }
      },
      "cell_type": "code",
      "source": [
        "model = Sequential()\n",
        "model.add(Reshape((30, 30, 30, 1), input_shape=(30, 30, 30)))  # 1 in-channel\n",
        "model.add(Conv3D(16, 6, strides=2, activation='relu'))\n",
        "model.add(Conv3D(64, 5, strides=2, activation='relu'))\n",
        "model.add(Conv3D(64, 5, strides=2, activation='relu'))\n",
        "model.add(Flatten())\n",
        "model.add(Dense(10, activation='softmax'))"
      ],
      "execution_count": 0,
      "outputs": []
    },
    {
      "metadata": {
        "id": "9omtT8IKiBjg",
        "colab_type": "text"
      },
      "cell_type": "markdown",
      "source": [
        "# Train and Show Test Accuracy"
      ]
    },
    {
      "metadata": {
        "id": "HwrkReVjiDjQ",
        "colab_type": "code",
        "colab": {
          "autoexec": {
            "startup": false,
            "wait_interval": 0
          },
          "output_extras": [
            {
              "item_id": 61
            }
          ],
          "base_uri": "https://localhost:8080/",
          "height": 1071
        },
        "outputId": "dc1c31ea-af84-4c4c-9fca-65205a6a97c5",
        "executionInfo": {
          "status": "ok",
          "timestamp": 1522388084930,
          "user_tz": -540,
          "elapsed": 38998,
          "user": {
            "displayName": "Amit Regmi",
            "photoUrl": "//lh3.googleusercontent.com/-RYO6ZPGW2UE/AAAAAAAAAAI/AAAAAAAAAY8/7wgPJISKqpg/s50-c-k-no/photo.jpg",
            "userId": "111584261288100302778"
          }
        }
      },
      "cell_type": "code",
      "source": [
        "model.compile(loss='categorical_crossentropy', optimizer=keras.optimizers.Adam(lr=1e-4))\n",
        "model.fit(X, Y, batch_size=256, epochs=30, verbose=2,validation_split=0.2, shuffle=True)\n",
        "Y_test_pred = np.argmax(model.predict(X_test), axis=1)\n",
        "print('Test accuracy: {:.3f}'.format(accuracy_score(Y_test, Y_test_pred)))"
      ],
      "execution_count": 7,
      "outputs": [
        {
          "output_type": "stream",
          "text": [
            "Train on 3192 samples, validate on 799 samples\n",
            "Epoch 1/30\n",
            " - 5s - loss: 2.1504 - val_loss: 1.8187\n",
            "Epoch 2/30\n",
            " - 1s - loss: 1.3866 - val_loss: 0.9915\n",
            "Epoch 3/30\n",
            " - 1s - loss: 0.7834 - val_loss: 0.7239\n",
            "Epoch 4/30\n",
            " - 1s - loss: 0.6071 - val_loss: 0.6520\n",
            "Epoch 5/30\n",
            " - 1s - loss: 0.5307 - val_loss: 0.5364\n",
            "Epoch 6/30\n",
            " - 1s - loss: 0.4737 - val_loss: 0.4512\n",
            "Epoch 7/30\n",
            " - 1s - loss: 0.4131 - val_loss: 0.4211\n",
            "Epoch 8/30\n",
            " - 1s - loss: 0.3862 - val_loss: 0.4089\n",
            "Epoch 9/30\n",
            " - 1s - loss: 0.3728 - val_loss: 0.4364\n",
            "Epoch 10/30\n",
            " - 1s - loss: 0.3573 - val_loss: 0.3914\n",
            "Epoch 11/30\n",
            " - 1s - loss: 0.3391 - val_loss: 0.3945\n",
            "Epoch 12/30\n",
            " - 1s - loss: 0.3307 - val_loss: 0.3855\n",
            "Epoch 13/30\n",
            " - 1s - loss: 0.3180 - val_loss: 0.4079\n",
            "Epoch 14/30\n",
            " - 1s - loss: 0.3017 - val_loss: 0.3594\n",
            "Epoch 15/30\n",
            " - 1s - loss: 0.2795 - val_loss: 0.3574\n",
            "Epoch 16/30\n",
            " - 1s - loss: 0.2812 - val_loss: 0.3627\n",
            "Epoch 17/30\n",
            " - 1s - loss: 0.2829 - val_loss: 0.4786\n",
            "Epoch 18/30\n",
            " - 1s - loss: 0.2893 - val_loss: 0.3876\n",
            "Epoch 19/30\n",
            " - 1s - loss: 0.2625 - val_loss: 0.3265\n",
            "Epoch 20/30\n",
            " - 1s - loss: 0.2400 - val_loss: 0.3313\n",
            "Epoch 21/30\n",
            " - 1s - loss: 0.2250 - val_loss: 0.3193\n",
            "Epoch 22/30\n",
            " - 1s - loss: 0.2249 - val_loss: 0.3104\n",
            "Epoch 23/30\n",
            " - 1s - loss: 0.2151 - val_loss: 0.3241\n",
            "Epoch 24/30\n",
            " - 1s - loss: 0.2134 - val_loss: 0.3246\n",
            "Epoch 25/30\n",
            " - 1s - loss: 0.2177 - val_loss: 0.3347\n",
            "Epoch 26/30\n",
            " - 1s - loss: 0.2327 - val_loss: 0.3467\n",
            "Epoch 27/30\n",
            " - 1s - loss: 0.2112 - val_loss: 0.3337\n",
            "Epoch 28/30\n",
            " - 1s - loss: 0.1906 - val_loss: 0.2988\n",
            "Epoch 29/30\n",
            " - 1s - loss: 0.1771 - val_loss: 0.3012\n",
            "Epoch 30/30\n",
            " - 1s - loss: 0.1741 - val_loss: 0.3848\n",
            "Test accuracy: 0.858\n"
          ],
          "name": "stdout"
        }
      ]
    },
    {
      "metadata": {
        "id": "AHtC6Ih_iIs_",
        "colab_type": "text"
      },
      "cell_type": "markdown",
      "source": [
        "# Show confusion matrix and average per-class accuracy"
      ]
    },
    {
      "metadata": {
        "id": "VrR-Uy5HiLVz",
        "colab_type": "code",
        "colab": {
          "autoexec": {
            "startup": false,
            "wait_interval": 0
          },
          "output_extras": [
            {
              "item_id": 1
            }
          ],
          "base_uri": "https://localhost:8080/",
          "height": 221
        },
        "outputId": "4cce9fc3-a60f-43f3-b971-51387896b5fd",
        "executionInfo": {
          "status": "ok",
          "timestamp": 1522388090125,
          "user_tz": -540,
          "elapsed": 615,
          "user": {
            "displayName": "Amit Regmi",
            "photoUrl": "//lh3.googleusercontent.com/-RYO6ZPGW2UE/AAAAAAAAAAI/AAAAAAAAAY8/7wgPJISKqpg/s50-c-k-no/photo.jpg",
            "userId": "111584261288100302778"
          }
        }
      },
      "cell_type": "code",
      "source": [
        "conf = confusion_matrix(Y_test, Y_test_pred)\n",
        "avg_per_class_acc = np.mean(np.diagonal(conf) / np.sum(conf, axis=1))\n",
        "print('Confusion matrix:\\n{}'.format(conf))\n",
        "print('Average per-class accuracy: {:.3f}'.format(avg_per_class_acc))"
      ],
      "execution_count": 8,
      "outputs": [
        {
          "output_type": "stream",
          "text": [
            "Confusion matrix:\n",
            "[[38  8  1  0  0  0  0  2  1  0]\n",
            " [ 1 98  0  0  0  0  0  0  1  0]\n",
            " [ 0  4 95  0  0  0  0  0  1  0]\n",
            " [ 0  0  2 60  3  0  1  5 14  1]\n",
            " [ 0  0  1  1 82  1  1  0  0  0]\n",
            " [ 0  0  3  1  3 93  0  0  0  0]\n",
            " [ 0  1  1  0 46  0 30  0  7  1]\n",
            " [ 0  0  0  0  3  0  0 97  0  0]\n",
            " [ 0  0  0 11  0  0  0  0 89  0]\n",
            " [ 0  0  2  0  1  0  0  0  0 97]]\n",
            "Average per-class accuracy: 0.845\n"
          ],
          "name": "stdout"
        }
      ]
    },
    {
      "metadata": {
        "id": "-QxcCieJEFva",
        "colab_type": "text"
      },
      "cell_type": "markdown",
      "source": [
        "#Saving Learning Model"
      ]
    },
    {
      "metadata": {
        "id": "iAqMWlEwEMQC",
        "colab_type": "code",
        "colab": {
          "autoexec": {
            "startup": false,
            "wait_interval": 0
          }
        }
      },
      "cell_type": "code",
      "source": [
        "from google.colab import files\n",
        "filename = 'VoxNet_Weight.hdf5'\n",
        "model.save_weights(filename, overwrite=True)\n",
        "files.download(filename)"
      ],
      "execution_count": 0,
      "outputs": []
    }
  ]
}